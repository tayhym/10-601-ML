{
  "nbformat": 4,
  "nbformat_minor": 0,
  "metadata": {
    "colab": {
      "name": "python_session_2.ipynb",
      "provenance": [],
      "collapsed_sections": [],
      "include_colab_link": true
    },
    "kernelspec": {
      "name": "python3",
      "display_name": "Python 3"
    }
  },
  "cells": [
    {
      "cell_type": "markdown",
      "metadata": {
        "id": "view-in-github",
        "colab_type": "text"
      },
      "source": [
        "<a href=\"https://colab.research.google.com/github/tayhym/10-601-ML/blob/master/python_session_2.ipynb\" target=\"_parent\"><img src=\"https://colab.research.google.com/assets/colab-badge.svg\" alt=\"Open In Colab\"/></a>"
      ]
    },
    {
      "cell_type": "markdown",
      "metadata": {
        "id": "shLEXRAK9gxr",
        "colab_type": "text"
      },
      "source": [
        "# Python Tutorial Session 2 for IRL (24/04/2020)\n",
        "Written By: John Lee\n",
        "\n",
        "## Objective\n",
        "- Gain some hands-on experience with Python\n",
        "- Find out more about some of the useful Python libraries\n",
        "\n",
        "## Outline\n",
        "1. Review\n",
        "2. Example: Signal Processing - Backprojection\n"
      ]
    },
    {
      "cell_type": "markdown",
      "metadata": {
        "id": "Ae_5-1jl-YlC",
        "colab_type": "text"
      },
      "source": [
        "## 1. Review\n",
        "Last time, we saw that there are some differences between MATLAB and Python. In the following few cells, we will revise our understanding of the differences by doing a few examples, translating some MATLAB stuff to Python."
      ]
    },
    {
      "cell_type": "code",
      "metadata": {
        "id": "mxKuQNvv_f_E",
        "colab_type": "code",
        "colab": {}
      },
      "source": [
        "import numpy as np"
      ],
      "execution_count": 0,
      "outputs": []
    },
    {
      "cell_type": "code",
      "metadata": {
        "id": "sRQGm29j9Wtu",
        "colab_type": "code",
        "colab": {}
      },
      "source": [
        "# TODO: Convert the following MATLAB code to Python\n",
        "# MATLAB: x_axis = -50:0.25:50;\n",
        "# Hint: Run '?np.arange' for help on the numpy function arange\n"
      ],
      "execution_count": 0,
      "outputs": []
    },
    {
      "cell_type": "code",
      "metadata": {
        "id": "x9GY8WCmdqmn",
        "colab_type": "code",
        "colab": {}
      },
      "source": [
        "# TODO: Let's look at the first two elements of x_axis. They should be [-50, -49.75]\n",
        "# MATLAB: x_axis(1:2)\n"
      ],
      "execution_count": 0,
      "outputs": []
    },
    {
      "cell_type": "code",
      "metadata": {
        "id": "2D6dK0WDd-Qs",
        "colab_type": "code",
        "colab": {}
      },
      "source": [
        "# TODO: Let's look at the last two elements of x_axis. They should be [49.75, 50]\n",
        "# MATLAB: x_axis(end-1:end)\n"
      ],
      "execution_count": 0,
      "outputs": []
    },
    {
      "cell_type": "markdown",
      "metadata": {
        "id": "zG1-BaAhCBp3",
        "colab_type": "text"
      },
      "source": [
        "Let's take a look at `x_axis` by plotting it. In MATLAB, we would do something like\n",
        "```\n",
        "figure();\n",
        "plot(x_axis);\n",
        "```\n",
        "The Python equivalent is not too different! The only difference is we need to import the plotting library (`matplotlib.pyplot`). The vast majority of people import it as `plt` (just like how `numpy` is usually imported as `np`). All we need to do now is add `plt` before each of the MATLAB commands!"
      ]
    },
    {
      "cell_type": "code",
      "metadata": {
        "id": "X7U6nIX1-XcV",
        "colab_type": "code",
        "colab": {}
      },
      "source": [
        "import matplotlib.pyplot as plt\n",
        "plt.plot(x_axis)\n",
        "plt.show()"
      ],
      "execution_count": 0,
      "outputs": []
    },
    {
      "cell_type": "markdown",
      "metadata": {
        "id": "1hoEiewIf7z5",
        "colab_type": "text"
      },
      "source": [
        "## 2. Example: Signal Processing - GBP\n",
        "In the following example, we shall look at how python can be used for signal processing. To that end, we shall implement global backprojection in Python. "
      ]
    },
    {
      "cell_type": "markdown",
      "metadata": {
        "id": "MSrkC1FSgdUd",
        "colab_type": "text"
      },
      "source": [
        "### Step 1: Downloading Data\n",
        "For this example, we shall use the AFRL GOTCHA Volumetric SAR Dataset. A small subset of the data shall be loaded from my google Drive folder. The following cell should print the following code block (with the exception of the timestamp)\n",
        "```\n",
        "-rw-r--r-- 1 root root 394K Apr 21 03:31 data_3dsar_pass1_az001_HH.mat\n",
        "-rw-r--r-- 1 root root 394K Apr 21 03:31 data_3dsar_pass1_az002_HH.mat\n",
        "-rw-r--r-- 1 root root 398K Apr 21 03:31 data_3dsar_pass1_az003_HH.mat\n",
        "```\n"
      ]
    },
    {
      "cell_type": "code",
      "metadata": {
        "id": "X__4VFhBAEda",
        "colab_type": "code",
        "colab": {}
      },
      "source": [
        "!wget -q --load-cookies /tmp/cookies.txt \"https://docs.google.com/uc?export=download&confirm=$(wget --quiet --save-cookies /tmp/cookies.txt --keep-session-cookies --no-check-certificate 'https://docs.google.com/uc?export=download&id=1V2Wm20kMfT4EVx9lAcW-IjylXQKiT9Ut' -O- | sed -rn 's/.*confirm=([0-9A-Za-z_]+).*/\\1\\n/p')&id=1V2Wm20kMfT4EVx9lAcW-IjylXQKiT9Ut\" -O data_3dsar_pass1_az001_HH.mat && rm -rf /tmp/cookies.txt\n",
        "!wget -q --load-cookies /tmp/cookies.txt \"https://docs.google.com/uc?export=download&confirm=$(wget --quiet --save-cookies /tmp/cookies.txt --keep-session-cookies --no-check-certificate 'https://docs.google.com/uc?export=download&id=1CJTABx01kvs5pSt6nWCf9sdAjLv-rg-T' -O- | sed -rn 's/.*confirm=([0-9A-Za-z_]+).*/\\1\\n/p')&id=1CJTABx01kvs5pSt6nWCf9sdAjLv-rg-T\" -O data_3dsar_pass1_az002_HH.mat && rm -rf /tmp/cookies.txt\n",
        "!wget -q --load-cookies /tmp/cookies.txt \"https://docs.google.com/uc?export=download&confirm=$(wget --quiet --save-cookies /tmp/cookies.txt --keep-session-cookies --no-check-certificate 'https://docs.google.com/uc?export=download&id=1HNLc7Tw159J1PdIO1ULxLEiSL6EaaLMa' -O- | sed -rn 's/.*confirm=([0-9A-Za-z_]+).*/\\1\\n/p')&id=1HNLc7Tw159J1PdIO1ULxLEiSL6EaaLMa\" -O data_3dsar_pass1_az003_HH.mat && rm -rf /tmp/cookies.txt\n",
        "!ls -lh | grep data_3dsar_pass1"
      ],
      "execution_count": 0,
      "outputs": []
    },
    {
      "cell_type": "markdown",
      "metadata": {
        "id": "zpYRPzoGzfuV",
        "colab_type": "text"
      },
      "source": [
        "### Step 2: Reading the data\n",
        "The GOTCHA dataset is stored in `*.mat` files. That's a MATLAB format, how do we read it with Python? Enter `scipy` (pronounced \"sigh-pie\"). `scipy` is a Python library that has a lot of functions that are useful for scientific computation (e.g. FFT, windowing functions, filter design), as well as a way to read data from other popular scientific computation tools.\n",
        "\n",
        "In order to use the `scipy` library, we would first have to import it."
      ]
    },
    {
      "cell_type": "code",
      "metadata": {
        "id": "uBNsS-IAzfJL",
        "colab_type": "code",
        "colab": {}
      },
      "source": [
        "import scipy.io as sio\n",
        "from scipy.constants import speed_of_light"
      ],
      "execution_count": 0,
      "outputs": []
    },
    {
      "cell_type": "markdown",
      "metadata": {
        "id": "DjBVP8VsDBVJ",
        "colab_type": "text"
      },
      "source": [
        "So far we've mainly imported entire libraries, giving us access to all functions within the library. But sometimes we only need one thing. For example, we only need the `speed_of_light` (and we don't need other constants like the Boltzmann's constant), so we can choose to only import that single variable. The way we do that is by specifying which library we want to take `from`, and subsequently `import` the variable or function that we need.\n",
        "\n",
        "Next up, we load the MATLAB file."
      ]
    },
    {
      "cell_type": "code",
      "metadata": {
        "id": "IL_iV_4Q5Axt",
        "colab_type": "code",
        "colab": {}
      },
      "source": [
        "mat_data = sio.loadmat('./data_3dsar_pass1_az001_HH.mat')[\"data\"][0][0]"
      ],
      "execution_count": 0,
      "outputs": []
    },
    {
      "cell_type": "markdown",
      "metadata": {
        "id": "r9Q5EdT88LpC",
        "colab_type": "text"
      },
      "source": [
        "Within each `*.mat` file is a MATLAB struct called data, containing the follow fields:\n",
        "1. `fp` - RADAR data in the frequency domain, after matched-filter.\n",
        "2. `freq` - The corresponding frequency points\n",
        "3. `x` - The antenna's x coordinate (in some local coordinate system with the origin at the scene centre)\n",
        "4. `y` - The antenna's y coordinate (in some local coordinate system with the origin at the scene centre)\n",
        "5. `z` - The antenna's z coordinate (in some local coordinate system with the origin at the scene centre)\n",
        "6. `r0` - The range from the antenna to the scene centre. This together with `th` and `phi` locate the antenna in a spherical coordinate system. This should be equal to the distance from (x, y, z) to the origin, but somehow there are some small deviations. I'm not sure what's the deal with this.\n",
        "7. `th` - The azimuth angle\n",
        "8. `phi` - The elevation angle\n",
        "9. `af` - A MATLAB struct containing some auto-focus parameters.\n",
        "\n",
        "Next, we will extract the components that we will use."
      ]
    },
    {
      "cell_type": "code",
      "metadata": {
        "id": "T6QfOJfI8Lb_",
        "colab_type": "code",
        "colab": {}
      },
      "source": [
        "raw_data = mat_data[0]\n",
        "freq = mat_data[1]\n",
        "ant_x = mat_data[2]\n",
        "ant_y = mat_data[3]\n",
        "ant_z = mat_data[4]"
      ],
      "execution_count": 0,
      "outputs": []
    },
    {
      "cell_type": "markdown",
      "metadata": {
        "id": "k6iVK-LwMl_Y",
        "colab_type": "text"
      },
      "source": [
        "Let's take a look at the frequency axis!"
      ]
    },
    {
      "cell_type": "code",
      "metadata": {
        "id": "g6GIKhQZMlsN",
        "colab_type": "code",
        "colab": {}
      },
      "source": [
        "plt.figure()\n",
        "plt.plot(freq)\n",
        "plt.show()"
      ],
      "execution_count": 0,
      "outputs": []
    },
    {
      "cell_type": "markdown",
      "metadata": {
        "id": "Gy40tc04EZFE",
        "colab_type": "text"
      },
      "source": [
        "Now that we've loaded that, we want to load all the other *.mat files too. We could certainly do something like this:\n",
        "```python\n",
        "mat_data = sio.loadmat('./data_3dsar_pass1_az002_HH.mat')[\"data\"][0][0]\n",
        "raw_data = np.append(raw_data, mat_data[0], axis=1)\n",
        "ant_x = np.append(ant_x, mat_data[2], axis=1)\n",
        "ant_y = np.append(ant_y, mat_data[3], axis=1)\n",
        "ant_z = np.append(ant_z, mat_data[4], axis=1)\n",
        "\n",
        "mat_data = sio.loadmat('./data_3dsar_pass1_az003_HH.mat')[\"data\"][0][0]\n",
        "raw_data = np.append(raw_data, mat_data[0], axis=1)\n",
        "ant_x = np.append(ant_x, mat_data[2], axis=1)\n",
        "ant_y = np.append(ant_y, mat_data[3], axis=1)\n",
        "ant_z = np.append(ant_z, mat_data[4], axis=1)\n",
        "```\n",
        "But thats..\n",
        "\n",
        "<figure>\n",
        "<center>\n",
        "<img src='https://media.giphy.com/media/10FHR5A4cXqVrO/giphy.gif' />\n",
        "</center>\n",
        "</figure>\n",
        "\n",
        "What do we usually do when the same piece of code is run multiple times with slightly different input parameters? Functions!\n",
        "\n",
        "In MATLAB, we might have done something like\n",
        "```matlab\n",
        "function [raw_data, freq, ant_x, ant_y, ant_z] = extract_gotcha(file_path)\n",
        "   % do something\n",
        "   end\n",
        "```\n",
        "\n",
        "In Python, we define functions using the keyword `def`, let's try that out by wrapping the following sample code in a function\n",
        "```python\n",
        "mat_data = sio.loadmat('./data_3dsar_pass1_az001_HH.mat')[\"data\"][0][0]\n",
        "raw_data = mat_data[0]\n",
        "freq = mat_data[1]\n",
        "ant_x = mat_data[2]\n",
        "ant_y = mat_data[3]\n",
        "ant_z = mat_data[4]\n",
        "```"
      ]
    },
    {
      "cell_type": "code",
      "metadata": {
        "id": "v3RQDupfFbP3",
        "colab_type": "code",
        "colab": {}
      },
      "source": [
        "# TODO: Complete the extract_gotcha script so that it takes in a string containing \n",
        "#       the path to the file, and returns raw_data, freq, ant_x, ant_y, ant_z\n",
        "def extract_gotcha(file_path):\n",
        "  # Do something\n",
        "  return raw_data, freq, ant_x, ant_y, ant_z"
      ],
      "execution_count": 0,
      "outputs": []
    },
    {
      "cell_type": "markdown",
      "metadata": {
        "id": "b5mg-WBgLg5D",
        "colab_type": "text"
      },
      "source": [
        "Let's test out the function, and we'll plot the frequency axis again just to make sure that we've read everything correctly."
      ]
    },
    {
      "cell_type": "code",
      "metadata": {
        "id": "NSLKBg-rMNk-",
        "colab_type": "code",
        "colab": {}
      },
      "source": [
        "(raw_data, freq, ant_x, ant_y, ant_z) = extract_gotcha('./data_3dsar_pass1_az001_HH.mat')\n",
        "plt.figure()\n",
        "plt.plot(freq)\n",
        "plt.show()"
      ],
      "execution_count": 0,
      "outputs": []
    },
    {
      "cell_type": "markdown",
      "metadata": {
        "id": "Vp_8g8O7OnbB",
        "colab_type": "text"
      },
      "source": [
        "Great! Now all we need to do is loop through the *.mat files! In MATLAB, we would have written a for loop like this:\n",
        "```\n",
        "for idx = 1:3\n",
        "  file_str = file_str_array(idx);\n",
        "  [raw_data, freq, ant_x, ant_y, ant_z] = extract_gotcha(file_str);\n",
        "end\n",
        "```\n",
        "A similar way to do it in python would be:\n",
        "```python\n",
        "for idx in range(3): # we can think of range(3) as forming [0, 1, 2]\n",
        "  # do stuff here\n",
        "```\n",
        "We are not limited to looping through numbers in an array. The following cell shows an example where we rotate through filenames."
      ]
    },
    {
      "cell_type": "code",
      "metadata": {
        "id": "M2O9VyBGMykC",
        "colab_type": "code",
        "colab": {}
      },
      "source": [
        "from os import listdir\n",
        "files = listdir()\n",
        "mat_files_seen = 0\n",
        "for file in files:\n",
        "  if file.endswith('.mat'):\n",
        "    if mat_files_seen == 0:\n",
        "      (raw_data, freq, ant_x, ant_y, ant_z) = extract_gotcha(file)\n",
        "    else:\n",
        "      (part_raw_data, part_freq, part_ant_x, part_ant_y, part_ant_z) = extract_gotcha(file)\n",
        "      raw_data = np.append(raw_data, part_raw_data, axis=1)\n",
        "      ant_x = np.append(ant_x, part_ant_x, axis=1)\n",
        "      ant_y = np.append(ant_y, part_ant_y, axis=1)\n",
        "      ant_z = np.append(ant_z, part_ant_z, axis=1)\n",
        "    mat_files_seen += 1"
      ],
      "execution_count": 0,
      "outputs": []
    },
    {
      "cell_type": "markdown",
      "metadata": {
        "id": "hvNLeFFp-OGY",
        "colab_type": "text"
      },
      "source": [
        "Let's check the `shape` (MATLAB `size`) of the loaded variables, and define some helpful parameters (`n_p` and `n_s`)"
      ]
    },
    {
      "cell_type": "code",
      "metadata": {
        "id": "fAtBQsPx-NZI",
        "colab_type": "code",
        "colab": {}
      },
      "source": [
        "# TODO: Check the shape of raw_data, freq, ant_x, ant_y, ant_z\n"
      ],
      "execution_count": 0,
      "outputs": []
    },
    {
      "cell_type": "code",
      "metadata": {
        "id": "tuyUfvd16g3n",
        "colab_type": "code",
        "colab": {}
      },
      "source": [
        "# TODO: Define the following helpful parameters\n",
        "#   n_p - The number of pulses\n",
        "#   n_s - The number of samples per pulse\n"
      ],
      "execution_count": 0,
      "outputs": []
    },
    {
      "cell_type": "markdown",
      "metadata": {
        "id": "6M9RZjCOAjiM",
        "colab_type": "text"
      },
      "source": [
        "Let's concatenate the various components of the antenna position together."
      ]
    },
    {
      "cell_type": "code",
      "metadata": {
        "id": "f1qEl-pxBU2r",
        "colab_type": "code",
        "colab": {}
      },
      "source": [
        "ant_xyz = np.concatenate((ant_x, ant_y, ant_z), axis=0)\n",
        "ant_xyz.dtype"
      ],
      "execution_count": 0,
      "outputs": []
    },
    {
      "cell_type": "markdown",
      "metadata": {
        "id": "kO1c-ozoZ5TP",
        "colab_type": "text"
      },
      "source": [
        "Oh dear! What is data type of `<f4`? That's a 32-bit little-endian float. Hmm, we want it to be a double, so let's convert it."
      ]
    },
    {
      "cell_type": "code",
      "metadata": {
        "id": "WJV0CjkFZz1X",
        "colab_type": "code",
        "colab": {}
      },
      "source": [
        "ant_xyz = np.double(ant_xyz)\n",
        "ant_xyz.dtype"
      ],
      "execution_count": 0,
      "outputs": []
    },
    {
      "cell_type": "code",
      "metadata": {
        "id": "kZjR9G1jfB3A",
        "colab_type": "code",
        "colab": {}
      },
      "source": [
        "wavelength = speed_of_light/np.mean(freq)"
      ],
      "execution_count": 0,
      "outputs": []
    },
    {
      "cell_type": "markdown",
      "metadata": {
        "id": "ugPq2k-hC5Fd",
        "colab_type": "text"
      },
      "source": [
        "### Step 3: Setting Up the Image Grid\n",
        "Next, we'll start be setting up the image grid. We already started to do this during the review - `x_axis` is the x_axis of the image grid. Next, we'll set up `y_axis`, do a meshgrid and then we should be good to go!"
      ]
    },
    {
      "cell_type": "code",
      "metadata": {
        "id": "-1TbiWQUB0_j",
        "colab_type": "code",
        "colab": {}
      },
      "source": [
        "# TODO: Define the y_axis\n",
        "# MATLAB: y_axis = -50:0.25:50;\n"
      ],
      "execution_count": 0,
      "outputs": []
    },
    {
      "cell_type": "code",
      "metadata": {
        "id": "9EsuhBirERhX",
        "colab_type": "code",
        "colab": {}
      },
      "source": [
        "?np.meshgrid"
      ],
      "execution_count": 0,
      "outputs": []
    },
    {
      "cell_type": "code",
      "metadata": {
        "id": "7RCnHvuxEcC_",
        "colab_type": "code",
        "colab": {}
      },
      "source": [
        "# TODO: Convert 1-d x_axis and y_axis to the 2-d x_grid and y_grid\n"
      ],
      "execution_count": 0,
      "outputs": []
    },
    {
      "cell_type": "markdown",
      "metadata": {
        "id": "2x-mFLzAEn13",
        "colab_type": "text"
      },
      "source": [
        "Let's take a look at `x_grid` and `y_grid`. In MATLAB, we would have used something like `imagesc(x_grid)` to display it. What is the equivalent in Python?\n",
        "\n",
        "`plt.imshow(x_grid)`"
      ]
    },
    {
      "cell_type": "code",
      "metadata": {
        "id": "V5wfDA7KEmUg",
        "colab_type": "code",
        "colab": {}
      },
      "source": [
        "plt.figure()\n",
        "plt.imshow(x_grid)\n",
        "plt.show()"
      ],
      "execution_count": 0,
      "outputs": []
    },
    {
      "cell_type": "markdown",
      "metadata": {
        "id": "4Bn8utHmFIzG",
        "colab_type": "text"
      },
      "source": [
        "MATLAB also has the subplot command that allows us to plot multiple things in the same figure. Is there a Python equivalent? Yes!\n",
        "`plt.subplot()`\n",
        "\n",
        "In the following cell, display `x_grid` and `y_grid` side-by-side using a single figure with subplots.\n",
        "\n",
        "*Bonus:*\n",
        "1. Label your subplots with `plt.title('Your Title Here')`\n",
        "2. Make the figure larger by specifying the figure size when creating the figure. You can do this with `plt.figure(figsize=(12, 6))`"
      ]
    },
    {
      "cell_type": "code",
      "metadata": {
        "id": "a4eXo7MyF_zs",
        "colab_type": "code",
        "colab": {}
      },
      "source": [
        "# TODO: \n"
      ],
      "execution_count": 0,
      "outputs": []
    },
    {
      "cell_type": "markdown",
      "metadata": {
        "id": "UvyC2hMcHDTu",
        "colab_type": "text"
      },
      "source": [
        "We've created our x-axis and our y-axis! One last dimension to go and then we're done with our image grid. The z-axis is all going to be zero. In MATLAB, we would do something like:\n",
        "`z_grid = zeros(size(x_grid))`\n",
        "\n",
        "It's not too different in Python. The equivalent `zeros` function is `np.zeros`"
      ]
    },
    {
      "cell_type": "code",
      "metadata": {
        "id": "WG0hoL-TIqWp",
        "colab_type": "code",
        "colab": {}
      },
      "source": [
        "# TODO: \n"
      ],
      "execution_count": 0,
      "outputs": []
    },
    {
      "cell_type": "markdown",
      "metadata": {
        "id": "xNPdyrUGC5pz",
        "colab_type": "text"
      },
      "source": [
        "### Step 4: Preparing the data\n",
        "Now that the imaging grid has been set up, we will prepare the data to be backprojected. The `raw_data` is in the frequency domain. We want an upsampled time-domain version of the signal for subsequent backprojection. Let's first start with getting the axis right."
      ]
    },
    {
      "cell_type": "code",
      "metadata": {
        "id": "x9oBh7tATVPr",
        "colab_type": "code",
        "colab": {}
      },
      "source": [
        "upsamp_fac = 10\n",
        "zero_pad = np.zeros((np.int((upsamp_fac-1)/2*n_s), n_p))\n",
        "freq_spacing = np.mean(np.diff(freq, axis=0))\n",
        "freq_left_pad = np.arange(-zero_pad.shape[0], 0)*freq_spacing + freq[0]\n",
        "freq_right_pad = np.arange(1, zero_pad.shape[0] + 1)*freq_spacing + freq[-1]\n",
        "freq_us = np.concatenate((freq_left_pad, np.squeeze(freq), freq_right_pad), axis = 0)"
      ],
      "execution_count": 0,
      "outputs": []
    },
    {
      "cell_type": "markdown",
      "metadata": {
        "id": "z-JuKUlxbsB0",
        "colab_type": "text"
      },
      "source": [
        "Great! Now let's plot the upsampled frequency axis, and let's also plot the difference between consecutive values (just to make sure we don't have an off-by-one error)."
      ]
    },
    {
      "cell_type": "code",
      "metadata": {
        "id": "4XEn-SJ_cU1u",
        "colab_type": "code",
        "colab": {}
      },
      "source": [
        "# TODO: Create a figure with two subplots:\n",
        "#   Subplot 1: Plot the upsampled frequency axis\n",
        "#   Subplot 2: Plot the difference between consecutive values\n",
        "#     Hint for subplot 2: ?np.diff\n"
      ],
      "execution_count": 0,
      "outputs": []
    },
    {
      "cell_type": "markdown",
      "metadata": {
        "id": "_lSagm69c7gn",
        "colab_type": "text"
      },
      "source": [
        "Now we'll also add the zero pad to the top and bottom of `raw_data`."
      ]
    },
    {
      "cell_type": "code",
      "metadata": {
        "id": "0QE4PFkTUyBN",
        "colab_type": "code",
        "colab": {}
      },
      "source": [
        "raw_data_us = np.concatenate((zero_pad, raw_data, zero_pad), axis=0)"
      ],
      "execution_count": 0,
      "outputs": []
    },
    {
      "cell_type": "markdown",
      "metadata": {
        "id": "qPTCHt78dGef",
        "colab_type": "text"
      },
      "source": [
        "We're going to do an FFT (along with all the fftshifts necessary) to get from the frequency domain to the time domain."
      ]
    },
    {
      "cell_type": "code",
      "metadata": {
        "id": "EzLd7sXUWPSM",
        "colab_type": "code",
        "colab": {}
      },
      "source": [
        "rg_comp = np.fft.fftshift(np.fft.ifft(np.fft.ifftshift(raw_data_us, axes=(0)), axis=0), axes=(0))"
      ],
      "execution_count": 0,
      "outputs": []
    },
    {
      "cell_type": "markdown",
      "metadata": {
        "id": "536vcRHcdcCu",
        "colab_type": "text"
      },
      "source": [
        "Now to form the range axis, there's this nifty python function (for which I don't think there's a MATLAB equivalent). `np.fft.fftfreq(l, ts)` produces the axis after data of length `l` and sampling period `ts` has been put through the fft."
      ]
    },
    {
      "cell_type": "code",
      "metadata": {
        "id": "3-PWM3LcdAE8",
        "colab_type": "code",
        "colab": {}
      },
      "source": [
        "r_axis = np.fft.fftshift(np.fft.fftfreq(freq_us.shape[0], freq_spacing))*speed_of_light/2"
      ],
      "execution_count": 0,
      "outputs": []
    },
    {
      "cell_type": "code",
      "metadata": {
        "id": "VMjQCTVldZsF",
        "colab_type": "code",
        "colab": {}
      },
      "source": [
        "plt.figure()\n",
        "plt.plot(r_axis)\n",
        "plt.xlabel('Index')\n",
        "plt.ylabel('Range (m)')\n",
        "plt.show()"
      ],
      "execution_count": 0,
      "outputs": []
    },
    {
      "cell_type": "markdown",
      "metadata": {
        "id": "BzvcO6t7nfs6",
        "colab_type": "text"
      },
      "source": [
        "### Step 5: BP\n"
      ]
    },
    {
      "cell_type": "code",
      "metadata": {
        "id": "xvFV2M7RqlTo",
        "colab_type": "code",
        "colab": {}
      },
      "source": [
        "n_row = x_grid.shape[0]\n",
        "n_col = x_grid.shape[1]"
      ],
      "execution_count": 0,
      "outputs": []
    },
    {
      "cell_type": "markdown",
      "metadata": {
        "id": "mM6_A9jtd_T1",
        "colab_type": "text"
      },
      "source": [
        "Just like in MATLAB, vectorized operations are a lot faster than nested for loops. So we're going to vectorize our image grid:"
      ]
    },
    {
      "cell_type": "code",
      "metadata": {
        "id": "kbf2IaiLnuu7",
        "colab_type": "code",
        "colab": {}
      },
      "source": [
        "grid = np.stack((x_grid, y_grid, z_grid), axis=-1)\n",
        "# Vectorize Image Grid\n",
        "grid_vec = np.reshape(grid, (-1, 3))"
      ],
      "execution_count": 0,
      "outputs": []
    },
    {
      "cell_type": "code",
      "metadata": {
        "id": "eez8h8E2RprU",
        "colab_type": "code",
        "colab": {}
      },
      "source": [
        "img = 1j*np.zeros((grid_vec.shape[0], ))\n",
        "r0 = np.linalg.norm(ant_xyz, axis=0)\n",
        "for pulse_num in range(n_p):\n",
        "  # TODO: Select the pulse from rg_comp\n",
        "  pulse = \n",
        "  # TODO: Calculate the distance that the pixel of interest is further from the scene centre\n",
        "  dist = \n",
        "  # TODO: Get the interpolated value query at dist\n",
        "  interp_val = \n",
        "  img += interp_val * np.exp(1j*4*np.pi*dist/wavelength)"
      ],
      "execution_count": 0,
      "outputs": []
    },
    {
      "cell_type": "code",
      "metadata": {
        "id": "u5bF2qQqpAq4",
        "colab_type": "code",
        "colab": {}
      },
      "source": [
        "img = np.reshape(img, (n_row, n_col))"
      ],
      "execution_count": 0,
      "outputs": []
    },
    {
      "cell_type": "code",
      "metadata": {
        "id": "A7sRy9y7x3_V",
        "colab_type": "code",
        "colab": {}
      },
      "source": [
        "log_img = 20*np.log10(np.abs(img))\n",
        "max_val = np.max(np.max(log_img))\n",
        "plt.figure(figsize=(12,12))\n",
        "plt.imshow(log_img, cmap='gray', vmin=max_val-60, vmax=max_val, origin='lower', extent=(-50, 50, -50, 50))\n",
        "plt.show()"
      ],
      "execution_count": 0,
      "outputs": []
    },
    {
      "cell_type": "markdown",
      "metadata": {
        "id": "yGIK5ft8ejjb",
        "colab_type": "text"
      },
      "source": [
        "Alright! We did it!\n",
        "\n",
        "<figure>\n",
        "<center>\n",
        "<img src='https://media.giphy.com/media/YTbZzCkRQCEJa/giphy.gif' />\n",
        "</center>\n",
        "</figure>\n",
        "\n",
        "---\n",
        "\n",
        "Bonus (Take-home problem): \n",
        "- Apply weighting\n",
        "  - Option 1: Apply weighting to the raw phase history data\n",
        "  - Option 2: Re-align phase history after BP then apply weighting\n",
        "    - Apply location dependent phase compensation to re-align phase history\n",
        "    \\begin{align}\n",
        "      e^{j\\left(\\frac{4\\pi\\gamma}{c^2}d^2 - \\frac{4\\pi}{\\lambda}d\\right)}\n",
        "    \\end{align}\n",
        "\n"
      ]
    },
    {
      "cell_type": "markdown",
      "metadata": {
        "id": "vHa37VTqGsBM",
        "colab_type": "text"
      },
      "source": [
        "## 3. Consolidation\n",
        "\n",
        "What have we done today?\n",
        "- Gotten our hands dirty with Python\n",
        "- Seen different ways to import various libraries\n",
        "  - `import library as lib`\n",
        "  - `from library import specific_function`\n",
        "- Figured out how to plot\n",
        "  - `import matplotlib.pyplot as plt`\n",
        "  - Prepend `plt` for most MATLAB plotting functions (e.g. `figure`, `plot`)\n",
        "  - `imagesc` is `plt.imshow` in Python\n",
        "- Seen how functions and loops are written in Python\n",
        "  - Functions defined by \n",
        "  ```python\n",
        "  def function_name(input_param1, input_param2):\n",
        "      # function code\n",
        "      return output_param\n",
        "  ```\n",
        "  - For Loops:\n",
        "  ```python\n",
        "  for idx in range(9):\n",
        "      if idx+1 % 3 == 0:\n",
        "        print('Hooray!')\n",
        "      else:\n",
        "        print('Hip')\n",
        "  ```\n",
        "- Explored some useful libraries for signal processing\n",
        "  - `numpy`\n",
        "  - `scipy`\n",
        "  - `matplotlib`\n",
        "\n"
      ]
    }
  ]
}